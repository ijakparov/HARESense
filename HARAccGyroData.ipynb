{
 "cells": [
  {
   "cell_type": "code",
   "execution_count": 1,
   "metadata": {},
   "outputs": [
    {
     "name": "stderr",
     "output_type": "stream",
     "text": [
      "Using TensorFlow backend.\n"
     ]
    }
   ],
   "source": [
    "import os\n",
    "import pandas as pd\n",
    "import numpy as np\n",
    "import matplotlib.pyplot as plt\n",
    "import seaborn as sns\n",
    "from scipy import stats\n",
    "from sklearn import metrics\n",
    "from sklearn.model_selection import train_test_split\n",
    "from keras.models import Sequential, Model\n",
    "from keras.layers import Dense\n",
    "from keras.layers import Flatten\n",
    "from keras.layers import Dropout\n",
    "from keras.callbacks import ModelCheckpoint\n",
    "from keras.layers.convolutional import Conv1D\n",
    "from keras.layers.convolutional import MaxPooling1D\n",
    "from sklearn.metrics import classification_report\n",
    "RANDOM_SEED = 42\n",
    "%matplotlib inline"
   ]
  },
  {
   "cell_type": "code",
   "execution_count": 2,
   "metadata": {},
   "outputs": [
    {
     "name": "stdout",
     "output_type": "stream",
     "text": [
      "['P1', 'P2', 'P3', 'P4', 'P5', 'P6']\n"
     ]
    }
   ],
   "source": [
    "dataset_path = './Dataset/'\n",
    "person_folders = os.listdir(dataset_path)\n",
    "print(person_folders)\n",
    "\n",
    "df = pd.DataFrame()\n",
    "df_list = []\n",
    "\n",
    "for i in range(len(person_folders)):\n",
    "    person_folder = person_folders[i]\n",
    "    csv_file_path = dataset_path + person_folder + '/'\n",
    "    csv_files = os.listdir(csv_file_path)\n",
    "\n",
    "    for j in range(len(csv_files)):\n",
    "        csv_file = csv_files[j]\n",
    "        #print(csv_file)\n",
    "\n",
    "        data_frame = pd.read_csv(csv_file_path + '/' + csv_file, index_col=None, header=None)\n",
    "        df_list.append(data_frame)\n",
    "\n",
    "df = pd.concat(df_list, axis = 0, sort= True, ignore_index = True)\n",
    "df.columns = ['Timestamp', 'Ax', 'Ay', 'Az', 'Gx', 'Gy', 'Gz', 'Label', 'Activity']"
   ]
  },
  {
   "cell_type": "code",
   "execution_count": 3,
   "metadata": {},
   "outputs": [
    {
     "name": "stdout",
     "output_type": "stream",
     "text": [
      "Timestamp    105881\n",
      "Ax           105881\n",
      "Ay           105881\n",
      "Az           105881\n",
      "Gx           105881\n",
      "Gy           105881\n",
      "Gz           105881\n",
      "Label        105881\n",
      "Activity     105881\n",
      "dtype: int64\n"
     ]
    },
    {
     "data": {
      "text/html": [
       "<div>\n",
       "<style scoped>\n",
       "    .dataframe tbody tr th:only-of-type {\n",
       "        vertical-align: middle;\n",
       "    }\n",
       "\n",
       "    .dataframe tbody tr th {\n",
       "        vertical-align: top;\n",
       "    }\n",
       "\n",
       "    .dataframe thead th {\n",
       "        text-align: right;\n",
       "    }\n",
       "</style>\n",
       "<table border=\"1\" class=\"dataframe\">\n",
       "  <thead>\n",
       "    <tr style=\"text-align: right;\">\n",
       "      <th></th>\n",
       "      <th>Timestamp</th>\n",
       "      <th>Ax</th>\n",
       "      <th>Ay</th>\n",
       "      <th>Az</th>\n",
       "      <th>Gx</th>\n",
       "      <th>Gy</th>\n",
       "      <th>Gz</th>\n",
       "      <th>Label</th>\n",
       "      <th>Activity</th>\n",
       "    </tr>\n",
       "  </thead>\n",
       "  <tbody>\n",
       "    <tr>\n",
       "      <th>0</th>\n",
       "      <td>1.564040e+12</td>\n",
       "      <td>0.499756</td>\n",
       "      <td>0.798584</td>\n",
       "      <td>-0.313110</td>\n",
       "      <td>-16.768293</td>\n",
       "      <td>-10.091463</td>\n",
       "      <td>11.189024</td>\n",
       "      <td>4</td>\n",
       "      <td>Eating</td>\n",
       "    </tr>\n",
       "    <tr>\n",
       "      <th>1</th>\n",
       "      <td>1.564040e+12</td>\n",
       "      <td>0.497314</td>\n",
       "      <td>0.826172</td>\n",
       "      <td>-0.312622</td>\n",
       "      <td>-6.981707</td>\n",
       "      <td>-11.310976</td>\n",
       "      <td>10.731707</td>\n",
       "      <td>4</td>\n",
       "      <td>Eating</td>\n",
       "    </tr>\n",
       "    <tr>\n",
       "      <th>2</th>\n",
       "      <td>1.564040e+12</td>\n",
       "      <td>0.495605</td>\n",
       "      <td>0.825562</td>\n",
       "      <td>-0.313477</td>\n",
       "      <td>-5.823171</td>\n",
       "      <td>-11.402439</td>\n",
       "      <td>3.993902</td>\n",
       "      <td>4</td>\n",
       "      <td>Eating</td>\n",
       "    </tr>\n",
       "    <tr>\n",
       "      <th>3</th>\n",
       "      <td>1.564040e+12</td>\n",
       "      <td>0.493408</td>\n",
       "      <td>0.823242</td>\n",
       "      <td>-0.314697</td>\n",
       "      <td>-5.091463</td>\n",
       "      <td>-11.067073</td>\n",
       "      <td>6.890244</td>\n",
       "      <td>4</td>\n",
       "      <td>Eating</td>\n",
       "    </tr>\n",
       "    <tr>\n",
       "      <th>4</th>\n",
       "      <td>1.564040e+12</td>\n",
       "      <td>0.495605</td>\n",
       "      <td>0.819336</td>\n",
       "      <td>-0.315552</td>\n",
       "      <td>-4.115854</td>\n",
       "      <td>-11.189024</td>\n",
       "      <td>16.890244</td>\n",
       "      <td>4</td>\n",
       "      <td>Eating</td>\n",
       "    </tr>\n",
       "  </tbody>\n",
       "</table>\n",
       "</div>"
      ],
      "text/plain": [
       "      Timestamp        Ax        Ay        Az         Gx         Gy  \\\n",
       "0  1.564040e+12  0.499756  0.798584 -0.313110 -16.768293 -10.091463   \n",
       "1  1.564040e+12  0.497314  0.826172 -0.312622  -6.981707 -11.310976   \n",
       "2  1.564040e+12  0.495605  0.825562 -0.313477  -5.823171 -11.402439   \n",
       "3  1.564040e+12  0.493408  0.823242 -0.314697  -5.091463 -11.067073   \n",
       "4  1.564040e+12  0.495605  0.819336 -0.315552  -4.115854 -11.189024   \n",
       "\n",
       "          Gz  Label Activity  \n",
       "0  11.189024      4   Eating  \n",
       "1  10.731707      4   Eating  \n",
       "2   3.993902      4   Eating  \n",
       "3   6.890244      4   Eating  \n",
       "4  16.890244      4   Eating  "
      ]
     },
     "execution_count": 3,
     "metadata": {},
     "output_type": "execute_result"
    }
   ],
   "source": [
    "print(df.count())\n",
    "df.head()"
   ]
  },
  {
   "cell_type": "code",
   "execution_count": 4,
   "metadata": {},
   "outputs": [
    {
     "data": {
      "image/png": "[encoded data removed]",
      "text/plain": [
       "<Figure size 576x432 with 1 Axes>"
      ]
     },
     "metadata": {
      "needs_background": "light"
     },
     "output_type": "display_data"
    }
   ],
   "source": [
    "df['Activity'].value_counts().plot(kind='bar', title='Records by Activity Type', figsize=(8, 6),align='center');"
   ]
  },
  {
   "cell_type": "code",
   "execution_count": 5,
   "metadata": {},
   "outputs": [],
   "source": [
    "# Normalize features for training data set (values between 0 and 1)\n",
    "# Surpress warning for next 3 operation\n",
    "pd.options.mode.chained_assignment = None  # default='warn'\n",
    "\n",
    "df['Ax'] = df['Ax'] / df['Ax'].max()\n",
    "df['Ay'] = df['Ay'] / df['Ay'].max()\n",
    "df['Az'] = df['Az'] / df['Az'].max()\n",
    "\n",
    "df['Gx'] = df['Gx'] / df['Gx'].max()\n",
    "df['Gy'] = df['Gy'] / df['Gy'].max()\n",
    "df['Gz'] = df['Gz'] / df['Gz'].max()\n",
    "\n",
    "# Round numbers\n",
    "df = df.round({'Ax': 5, 'Ay': 5, 'Az': 5, 'Gx': 5, 'Gy': 5, 'Gz': 5})"
   ]
  },
  {
   "cell_type": "code",
   "execution_count": 6,
   "metadata": {},
   "outputs": [
    {
     "name": "stderr",
     "output_type": "stream",
     "text": [
      "C:\\Users\\admin\\Anaconda3\\lib\\site-packages\\scipy\\stats\\stats.py:245: RuntimeWarning: The input array could not be properly checked for nan values. nan values will be ignored.\n",
      "  \"values. nan values will be ignored.\", RuntimeWarning)\n"
     ]
    }
   ],
   "source": [
    "N_TIME_STEPS = 80\n",
    "N_FEATURES = 6\n",
    "step = 20\n",
    "segments = []\n",
    "labels = []\n",
    "for i in range(0, len(df) - N_TIME_STEPS, step):\n",
    "    Ax = df['Ax'].values[i: i + N_TIME_STEPS]\n",
    "    Ay = df['Ay'].values[i: i + N_TIME_STEPS]\n",
    "    Az = df['Az'].values[i: i + N_TIME_STEPS]\n",
    "    \n",
    "    Gx = df['Gx'].values[i: i + N_TIME_STEPS]\n",
    "    Gy = df['Gy'].values[i: i + N_TIME_STEPS]\n",
    "    Gz = df['Gz'].values[i: i + N_TIME_STEPS]\n",
    "    \n",
    "    label = stats.mode(df['Activity'][i: i + N_TIME_STEPS])[0][0]\n",
    "    segments.append([Ax, Ay, Az, Gx, Gy, Gz])\n",
    "    labels.append(label)"
   ]
  },
  {
   "cell_type": "code",
   "execution_count": 7,
   "metadata": {},
   "outputs": [],
   "source": [
    "reshaped_segments = np.asarray(segments, dtype= np.float32).reshape(-1, N_TIME_STEPS, N_FEATURES)\n",
    "labels = np.asarray(pd.get_dummies(labels), dtype = np.float32)"
   ]
  },
  {
   "cell_type": "code",
   "execution_count": 8,
   "metadata": {},
   "outputs": [],
   "source": [
    "X_train, X_test, y_train, y_test = train_test_split(\n",
    "        reshaped_segments, labels, test_size=0.2, random_state=RANDOM_SEED)"
   ]
  },
  {
   "cell_type": "code",
   "execution_count": 9,
   "metadata": {},
   "outputs": [
    {
     "name": "stdout",
     "output_type": "stream",
     "text": [
      "X_train :  (4232, 80, 6)\n",
      "X_test :  (1059, 80, 6)\n"
     ]
    }
   ],
   "source": [
    "print('X_train : ', X_train.shape)\n",
    "print('X_test : ', X_test.shape)"
   ]
  },
  {
   "cell_type": "code",
   "execution_count": 10,
   "metadata": {},
   "outputs": [
    {
     "name": "stdout",
     "output_type": "stream",
     "text": [
      "n_timesteps :  80\n",
      "n_features :  6\n",
      "n_outputs :  7\n"
     ]
    }
   ],
   "source": [
    "verbose = 1\n",
    "epochs = 50\n",
    "batch_size = 100\n",
    "\n",
    "n_timesteps = X_train.shape[1]\n",
    "n_features = X_train.shape[2]\n",
    "n_outputs = y_train.shape[1]\n",
    "\n",
    "print('n_timesteps : ', n_timesteps)\n",
    "print('n_features : ', n_features)\n",
    "print('n_outputs : ', n_outputs)"
   ]
  },
  {
   "cell_type": "code",
   "execution_count": 11,
   "metadata": {},
   "outputs": [],
   "source": [
    "model = Sequential()\n",
    "model.add(Conv1D(filters=64, kernel_size=3, activation='relu', input_shape=(n_timesteps,n_features)))\n",
    "model.add(Conv1D(filters=64, kernel_size=3, activation='relu', padding = 'same'))\n",
    "model.add(Dropout(0.5))\n",
    "model.add(MaxPooling1D(pool_size=2))\n",
    "model.add(Flatten())\n",
    "model.add(Dense(100, activation='relu'))\n",
    "model.add(Dense(n_outputs, activation='softmax'))"
   ]
  },
  {
   "cell_type": "code",
   "execution_count": 12,
   "metadata": {
    "scrolled": true
   },
   "outputs": [
    {
     "name": "stdout",
     "output_type": "stream",
     "text": [
      "Train on 4232 samples, validate on 1059 samples\n",
      "Epoch 1/50\n",
      "4232/4232 [==============================] - 3s 788us/step - loss: 1.0188 - acc: 0.6151 - val_loss: 0.5761 - val_acc: 0.8149: 1.24\n",
      "Epoch 2/50\n",
      "4232/4232 [==============================] - 3s 657us/step - loss: 0.4747 - acc: 0.8228 - val_loss: 0.4950 - val_acc: 0.8234\n",
      "Epoch 3/50\n",
      "4232/4232 [==============================] - 3s 655us/step - loss: 0.3922 - acc: 0.8495 - val_loss: 0.3923 - val_acc: 0.8669\n",
      "Epoch 4/50\n",
      "4232/4232 [==============================] - 3s 708us/step - loss: 0.3686 - acc: 0.8518 - val_loss: 0.3990 - val_acc: 0.8716\n",
      "Epoch 5/50\n",
      "4232/4232 [==============================] - 3s 753us/step - loss: 0.3236 - acc: 0.8771 - val_loss: 0.3413 - val_acc: 0.8829\n",
      "Epoch 6/50\n",
      "4232/4232 [==============================] - 3s 651us/step - loss: 0.2944 - acc: 0.8816 - val_loss: 0.3393 - val_acc: 0.87350.2959 - acc\n",
      "Epoch 7/50\n",
      "4232/4232 [==============================] - 3s 658us/step - loss: 0.2727 - acc: 0.8913 - val_loss: 0.3128 - val_acc: 0.8791\n",
      "Epoch 8/50\n",
      "4232/4232 [==============================] - 3s 643us/step - loss: 0.2695 - acc: 0.8904 - val_loss: 0.3048 - val_acc: 0.8820\n",
      "Epoch 9/50\n",
      "4232/4232 [==============================] - 3s 650us/step - loss: 0.2357 - acc: 0.9062 - val_loss: 0.2937 - val_acc: 0.8933oss: 0.2358 - acc: \n",
      "Epoch 10/50\n",
      "4232/4232 [==============================] - 3s 753us/step - loss: 0.2286 - acc: 0.9126 - val_loss: 0.2956 - val_acc: 0.8725\n",
      "Epoch 11/50\n",
      "4232/4232 [==============================] - 3s 665us/step - loss: 0.2204 - acc: 0.9119 - val_loss: 0.2428 - val_acc: 0.9131\n",
      "Epoch 12/50\n",
      "4232/4232 [==============================] - 3s 645us/step - loss: 0.1890 - acc: 0.9272 - val_loss: 0.2574 - val_acc: 0.9018\n",
      "Epoch 13/50\n",
      "4232/4232 [==============================] - 3s 678us/step - loss: 0.1803 - acc: 0.9293 - val_loss: 0.2632 - val_acc: 0.8952\n",
      "Epoch 14/50\n",
      "4232/4232 [==============================] - 3s 647us/step - loss: 0.1815 - acc: 0.9260 - val_loss: 0.2310 - val_acc: 0.9292\n",
      "Epoch 15/50\n",
      "4232/4232 [==============================] - 3s 752us/step - loss: 0.1592 - acc: 0.9388 - val_loss: 0.2515 - val_acc: 0.8961- loss: 0.1499 - a - ETA: 1s - loss: 0.1513 -  - ETA: 0s - loss: 0.1546 -\n",
      "Epoch 16/50\n",
      "4232/4232 [==============================] - 3s 786us/step - loss: 0.1617 - acc: 0.9379 - val_loss: 0.2422 - val_acc: 0.9027\n",
      "Epoch 17/50\n",
      "4232/4232 [==============================] - 3s 677us/step - loss: 0.1421 - acc: 0.9459 - val_loss: 0.2368 - val_acc: 0.9207\n",
      "Epoch 18/50\n",
      "4232/4232 [==============================] - 3s 666us/step - loss: 0.1506 - acc: 0.9390 - val_loss: 0.2243 - val_acc: 0.9235\n",
      "Epoch 19/50\n",
      "4232/4232 [==============================] - 3s 662us/step - loss: 0.1335 - acc: 0.9480 - val_loss: 0.2161 - val_acc: 0.9197\n",
      "Epoch 20/50\n",
      "4232/4232 [==============================] - 3s 690us/step - loss: 0.1249 - acc: 0.9499 - val_loss: 0.2638 - val_acc: 0.9084\n",
      "Epoch 21/50\n",
      "4232/4232 [==============================] - 4s 851us/step - loss: 0.1299 - acc: 0.9513 - val_loss: 0.2173 - val_acc: 0.9188\n",
      "Epoch 22/50\n",
      "4232/4232 [==============================] - 3s 718us/step - loss: 0.1227 - acc: 0.9520 - val_loss: 0.1900 - val_acc: 0.9282\n",
      "Epoch 23/50\n",
      "4232/4232 [==============================] - 3s 677us/step - loss: 0.1188 - acc: 0.9537 - val_loss: 0.2247 - val_acc: 0.9254\n",
      "Epoch 24/50\n",
      "4232/4232 [==============================] - 3s 765us/step - loss: 0.1107 - acc: 0.9530 - val_loss: 0.2152 - val_acc: 0.9245\n",
      "Epoch 25/50\n",
      "4232/4232 [==============================] - 3s 761us/step - loss: 0.1009 - acc: 0.9631 - val_loss: 0.2087 - val_acc: 0.9348\n",
      "Epoch 26/50\n",
      "4232/4232 [==============================] - 4s 969us/step - loss: 0.1000 - acc: 0.9596 - val_loss: 0.1970 - val_acc: 0.9282\n",
      "Epoch 27/50\n",
      "4232/4232 [==============================] - 3s 820us/step - loss: 0.0944 - acc: 0.9608 - val_loss: 0.2189 - val_acc: 0.9207\n",
      "Epoch 28/50\n",
      "4232/4232 [==============================] - 4s 893us/step - loss: 0.0945 - acc: 0.9629 - val_loss: 0.1943 - val_acc: 0.9396\n",
      "Epoch 29/50\n",
      "4232/4232 [==============================] - 4s 895us/step - loss: 0.0899 - acc: 0.9672 - val_loss: 0.2005 - val_acc: 0.9282\n",
      "Epoch 30/50\n",
      "4232/4232 [==============================] - 3s 790us/step - loss: 0.0856 - acc: 0.9674 - val_loss: 0.2047 - val_acc: 0.9339\n",
      "Epoch 31/50\n",
      "4232/4232 [==============================] - 3s 758us/step - loss: 0.0794 - acc: 0.9683 - val_loss: 0.1887 - val_acc: 0.9367\n",
      "Epoch 32/50\n",
      "4232/4232 [==============================] - 3s 796us/step - loss: 0.0747 - acc: 0.9714 - val_loss: 0.2398 - val_acc: 0.9188\n",
      "Epoch 33/50\n",
      "4232/4232 [==============================] - 4s 853us/step - loss: 0.0862 - acc: 0.9657 - val_loss: 0.2088 - val_acc: 0.9377\n",
      "Epoch 34/50\n",
      "4232/4232 [==============================] - 4s 938us/step - loss: 0.0815 - acc: 0.9698 - val_loss: 0.2094 - val_acc: 0.9339\n",
      "Epoch 35/50\n",
      "4232/4232 [==============================] - 4s 870us/step - loss: 0.0662 - acc: 0.9752 - val_loss: 0.1766 - val_acc: 0.9386\n",
      "Epoch 36/50\n",
      "4232/4232 [==============================] - 4s 909us/step - loss: 0.0647 - acc: 0.9761 - val_loss: 0.2378 - val_acc: 0.9207\n",
      "Epoch 37/50\n",
      "4232/4232 [==============================] - 3s 797us/step - loss: 0.0795 - acc: 0.9672 - val_loss: 0.2214 - val_acc: 0.9282\n",
      "Epoch 38/50\n",
      "4232/4232 [==============================] - 3s 773us/step - loss: 0.0765 - acc: 0.9683 - val_loss: 0.2111 - val_acc: 0.9301\n",
      "Epoch 39/50\n",
      "4232/4232 [==============================] - 3s 826us/step - loss: 0.0666 - acc: 0.9738 - val_loss: 0.2099 - val_acc: 0.9377\n",
      "Epoch 40/50\n",
      "4232/4232 [==============================] - 3s 802us/step - loss: 0.0561 - acc: 0.9797 - val_loss: 0.1974 - val_acc: 0.9405\n",
      "Epoch 41/50\n",
      "4232/4232 [==============================] - 3s 740us/step - loss: 0.0605 - acc: 0.9754 - val_loss: 0.2198 - val_acc: 0.9235\n",
      "Epoch 42/50\n",
      "4232/4232 [==============================] - 3s 780us/step - loss: 0.0607 - acc: 0.9771 - val_loss: 0.2155 - val_acc: 0.9301\n",
      "Epoch 43/50\n",
      "4232/4232 [==============================] - 3s 796us/step - loss: 0.0531 - acc: 0.9797 - val_loss: 0.2069 - val_acc: 0.9367\n",
      "Epoch 44/50\n",
      "4232/4232 [==============================] - 3s 797us/step - loss: 0.0503 - acc: 0.9825 - val_loss: 0.1946 - val_acc: 0.9330\n",
      "Epoch 45/50\n",
      "4232/4232 [==============================] - 3s 763us/step - loss: 0.0660 - acc: 0.9698 - val_loss: 0.2619 - val_acc: 0.9178\n",
      "Epoch 46/50\n",
      "4232/4232 [==============================] - 3s 711us/step - loss: 0.0666 - acc: 0.9745 - val_loss: 0.2140 - val_acc: 0.9405\n",
      "Epoch 47/50\n",
      "4232/4232 [==============================] - 3s 699us/step - loss: 0.0584 - acc: 0.9773 - val_loss: 0.2059 - val_acc: 0.9415\n",
      "Epoch 48/50\n",
      "4232/4232 [==============================] - 3s 703us/step - loss: 0.0567 - acc: 0.9771 - val_loss: 0.2110 - val_acc: 0.9367ss: 0.0581 - acc:\n",
      "Epoch 49/50\n",
      "4232/4232 [==============================] - 3s 737us/step - loss: 0.0533 - acc: 0.9790 - val_loss: 0.2207 - val_acc: 0.9358\n",
      "Epoch 50/50\n",
      "4232/4232 [==============================] - 3s 724us/step - loss: 0.0553 - acc: 0.9802 - val_loss: 0.2008 - val_acc: 0.9424\n",
      "1059/1059 [==============================] - 0s 193us/step\n",
      "[INFO] loss=0.2008, accuracy: 94.2398%\n"
     ]
    }
   ],
   "source": [
    "model.compile(loss='categorical_crossentropy', optimizer='adam', metrics=['accuracy'])\n",
    "    \n",
    "# fit network\n",
    "history = model.fit(X_train, y_train, validation_data=(X_test, y_test), \n",
    "                    epochs=epochs, batch_size=batch_size, verbose=verbose)\n",
    "# evaluate model\n",
    "(loss, accuracy) = model.evaluate(X_test, y_test, batch_size=batch_size, verbose=verbose)\n",
    "print(\"[INFO] loss={:.4f}, accuracy: {:.4f}%\".format(loss, accuracy * 100))"
   ]
  },
  {
   "cell_type": "code",
   "execution_count": 13,
   "metadata": {},
   "outputs": [
    {
     "data": {
      "image/png": "[encoded data removed]",
      "text/plain": [
       "<Figure size 576x432 with 2 Axes>"
      ]
     },
     "metadata": {
      "needs_background": "light"
     },
     "output_type": "display_data"
    },
    {
     "name": "stdout",
     "output_type": "stream",
     "text": [
      "              precision    recall  f1-score   support\n",
      "\n",
      "           0       0.88      0.84      0.86        70\n",
      "           1       1.00      0.98      0.99       206\n",
      "           2       1.00      0.99      0.99       151\n",
      "           3       0.89      0.95      0.92       193\n",
      "           4       0.90      0.87      0.89       124\n",
      "           5       0.97      0.96      0.97       162\n",
      "           6       0.91      0.92      0.91       153\n",
      "\n",
      "   micro avg       0.94      0.94      0.94      1059\n",
      "   macro avg       0.94      0.93      0.93      1059\n",
      "weighted avg       0.94      0.94      0.94      1059\n",
      "\n"
     ]
    }
   ],
   "source": [
    "\n",
    "# Print confusion matrix for training data\n",
    "y_pred_train = model.predict(X_train)\n",
    "# Take the class with the highest probability from the train predictions\n",
    "max_y_pred_train = np.argmax(y_pred_train, axis=1)\n",
    "#print(classification_report(trainy, max_y_pred_train))\n",
    "\n",
    "# confusion matrix\n",
    "LABELS = [ 'Eating',\n",
    "            'Speak with Walk',\n",
    "          'Head Shake',\n",
    "          'Nodding',\n",
    "        'Speaking',      \n",
    "         'Stay', \n",
    "          'Walk']\n",
    "y_pred_test = model.predict(X_test)\n",
    "# Take the class with the highest probability from the test predictions\n",
    "max_y_pred_test = np.argmax(y_pred_test, axis=1)\n",
    "max_y_test = np.argmax(y_test, axis=1)\n",
    "\n",
    "matrix = metrics.confusion_matrix(max_y_test, max_y_pred_test)\n",
    "matrix = (matrix.astype('float') / matrix.sum(axis=1)[:, np.newaxis])*100\n",
    "fmt = '.2f'\n",
    "plt.figure(figsize=(8, 6))\n",
    "sns.heatmap(matrix,\n",
    "            cmap='RdYlGn_r',\n",
    "            linecolor='white',\n",
    "            linewidths=1,\n",
    "            xticklabels= LABELS,\n",
    "            yticklabels= LABELS,\n",
    "            annot=True,\n",
    "            fmt=fmt,\n",
    "           vmax = 100)\n",
    "plt.title('Confusion Matrix')\n",
    "plt.ylabel('True Label')\n",
    "plt.xlabel('Predicted Label')\n",
    "plt.show()\n",
    "\n",
    "print(classification_report(max_y_test, max_y_pred_test))"
   ]
  },
  {
   "cell_type": "code",
   "execution_count": null,
   "metadata": {},
   "outputs": [],
   "source": []
  }
 ],
 "metadata": {
  "kernelspec": {
   "display_name": "Python 3",
   "language": "python",
   "name": "python3"
  },
  "language_info": {
   "codemirror_mode": {
    "name": "ipython",
    "version": 3
   },
   "file_extension": ".py",
   "mimetype": "text/x-python",
   "name": "python",
   "nbconvert_exporter": "python",
   "pygments_lexer": "ipython3",
   "version": "3.6.7"
  }
 },
 "nbformat": 4,
 "nbformat_minor": 2
}
